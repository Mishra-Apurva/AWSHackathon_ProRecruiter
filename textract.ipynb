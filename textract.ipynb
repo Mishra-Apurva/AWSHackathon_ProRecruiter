{
 "cells": [
  {
   "cell_type": "code",
   "execution_count": 2,
   "id": "1a672c29-7e59-4029-a981-8aa028fb3803",
   "metadata": {},
   "outputs": [
    {
     "name": "stdout",
     "output_type": "stream",
     "text": [
      "Requirement already satisfied: boto3 in /opt/conda/lib/python3.7/site-packages (1.26.69)\n",
      "Requirement already satisfied: jmespath<2.0.0,>=0.7.1 in /opt/conda/lib/python3.7/site-packages (from boto3) (1.0.1)\n",
      "Requirement already satisfied: botocore<1.30.0,>=1.29.69 in /opt/conda/lib/python3.7/site-packages (from boto3) (1.29.69)\n",
      "Requirement already satisfied: s3transfer<0.7.0,>=0.6.0 in /opt/conda/lib/python3.7/site-packages (from boto3) (0.6.0)\n",
      "Requirement already satisfied: python-dateutil<3.0.0,>=2.1 in /opt/conda/lib/python3.7/site-packages (from botocore<1.30.0,>=1.29.69->boto3) (2.8.2)\n",
      "Requirement already satisfied: urllib3<1.27,>=1.25.4 in /opt/conda/lib/python3.7/site-packages (from botocore<1.30.0,>=1.29.69->boto3) (1.26.14)\n",
      "Requirement already satisfied: six>=1.5 in /opt/conda/lib/python3.7/site-packages (from python-dateutil<3.0.0,>=2.1->botocore<1.30.0,>=1.29.69->boto3) (1.14.0)\n",
      "\u001b[33mWARNING: Running pip as the 'root' user can result in broken permissions and conflicting behaviour with the system package manager. It is recommended to use a virtual environment instead: https://pip.pypa.io/warnings/venv\u001b[0m\u001b[33m\n",
      "\u001b[0m\n",
      "\u001b[1m[\u001b[0m\u001b[34;49mnotice\u001b[0m\u001b[1;39;49m]\u001b[0m\u001b[39;49m A new release of pip is available: \u001b[0m\u001b[31;49m23.0\u001b[0m\u001b[39;49m -> \u001b[0m\u001b[32;49m23.0.1\u001b[0m\n",
      "\u001b[1m[\u001b[0m\u001b[34;49mnotice\u001b[0m\u001b[1;39;49m]\u001b[0m\u001b[39;49m To update, run: \u001b[0m\u001b[32;49mpip install --upgrade pip\u001b[0m\n",
      "Note: you may need to restart the kernel to use updated packages.\n"
     ]
    }
   ],
   "source": [
    "pip install boto3"
   ]
  },
  {
   "cell_type": "code",
   "execution_count": 228,
   "id": "38a2ae42-b37d-4bd4-903b-a0ad0b78f2ad",
   "metadata": {
    "tags": []
   },
   "outputs": [],
   "source": [
    "import boto3\n",
    "import email\n",
    "client = boto3.client('textract')"
   ]
  },
  {
   "cell_type": "code",
   "execution_count": 229,
   "id": "6f404dcb-c37f-46b7-9d0b-4179c3594ab7",
   "metadata": {
    "tags": []
   },
   "outputs": [
    {
     "data": {
      "text/plain": [
       "<botocore.client.Textract at 0x7fb105092a10>"
      ]
     },
     "execution_count": 229,
     "metadata": {},
     "output_type": "execute_result"
    }
   ],
   "source": [
    "client"
   ]
  },
  {
   "cell_type": "code",
   "execution_count": 230,
   "id": "5b5751dc-734a-4b3c-9a5b-031606c7fc7c",
   "metadata": {
    "tags": []
   },
   "outputs": [],
   "source": [
    "s3 = boto3.client('s3')\n",
    "bucket_name = 'infiniteloopbucket'\n",
    "object_key = 'Category - Cold emails/cold email example to mark cuban.png'\n",
    "\n",
    "response = s3.get_object(Bucket=bucket_name, Key=object_key)\n",
    "image_bytes = response['Body'].read()\n",
    "attachment = email.message_from_bytes(image_bytes)"
   ]
  },
  {
   "cell_type": "code",
   "execution_count": 231,
   "id": "7b575b4e-c9ea-4bc1-95f3-a7fb885d8e29",
   "metadata": {},
   "outputs": [
    {
     "data": {
      "text/plain": [
       "<email.message.Message at 0x7fb104c2e0d0>"
      ]
     },
     "execution_count": 231,
     "metadata": {},
     "output_type": "execute_result"
    }
   ],
   "source": [
    "attachment"
   ]
  },
  {
   "cell_type": "code",
   "execution_count": 232,
   "id": "263d3fa9-d63d-45fc-9e54-ff6ad4b6e0ac",
   "metadata": {
    "tags": []
   },
   "outputs": [],
   "source": [
    "image_bytes = attachment.get_payload(decode=True)"
   ]
  },
  {
   "cell_type": "code",
   "execution_count": 233,
   "id": "d42439c5-7b03-4f21-8d5c-6432e1aa2eb5",
   "metadata": {
    "tags": []
   },
   "outputs": [],
   "source": [
    "response = client.detect_document_text(Document={'Bytes': image_bytes})"
   ]
  },
  {
   "cell_type": "code",
   "execution_count": 244,
   "id": "238d1981-a17f-452e-9f96-54ba1ff9a955",
   "metadata": {
    "tags": []
   },
   "outputs": [
    {
     "data": {
      "text/plain": [
       "99.0411124596229"
      ]
     },
     "execution_count": 244,
     "metadata": {},
     "output_type": "execute_result"
    }
   ],
   "source": [
    "sumConfidence = 0 \n",
    "lenBlk = 0\n",
    "for block in response['Blocks']:\n",
    "    if block['BlockType'] == 'LINE':\n",
    "        #print(block['Text'], ' Confidence: ', block['Confidence'])\n",
    "        sumConfidence += block['Confidence']\n",
    "        lenBlk += 1\n",
    "avgConfidence = sumConfidence/lenBlk\n",
    "avgConfidence"
   ]
  },
  {
   "cell_type": "code",
   "execution_count": 234,
   "id": "696e3f9b-2053-4641-b8ec-4234bf8a903c",
   "metadata": {
    "tags": []
   },
   "outputs": [
    {
     "name": "stdout",
     "output_type": "stream",
     "text": [
      "Reaching out - Factmata\n",
      "Dear Mr. Cuban,\n",
      "Apologies for my cold message. / am the founder of a Google backed startup called\n",
      "Factmata, that uses artificial intelligence to perform automated fact checking and\n",
      "referencing. We are a team of 3 NLP researchers and scientists with 30+ published\n",
      "and cited papers within natural language processing, question answering and\n",
      "information extraction.l am currently fundraising from people who care about the\n",
      "problem of online misinformation, want to reduce mistrust in the media, and change\n",
      "the way we consume online content. / would love to tell you more about us if of\n",
      "interest, especially given your recent public discussions about this topic.\n",
      "Look forward to hearing from you soon,\n",
      "Best regards,\n",
      "Dhruv\n",
      "\n"
     ]
    }
   ],
   "source": [
    "text = ''\n",
    "for item in response['Blocks']:\n",
    "    if item['BlockType'] == 'LINE':\n",
    "        text += item['Text'] + '\\n'\n",
    "\n",
    "print(text)"
   ]
  },
  {
   "cell_type": "code",
   "execution_count": 217,
   "id": "c592d6f2-7645-49a0-97cb-6d87a002f7c7",
   "metadata": {
    "tags": []
   },
   "outputs": [],
   "source": [
    "import pandas as pd\n",
    "df = pd.DataFrame(columns=['email_text', 'label'])"
   ]
  },
  {
   "cell_type": "code",
   "execution_count": 218,
   "id": "be45dbf9-873c-457e-b730-70aacad918a9",
   "metadata": {
    "tags": []
   },
   "outputs": [
    {
     "data": {
      "text/html": [
       "<div>\n",
       "<style scoped>\n",
       "    .dataframe tbody tr th:only-of-type {\n",
       "        vertical-align: middle;\n",
       "    }\n",
       "\n",
       "    .dataframe tbody tr th {\n",
       "        vertical-align: top;\n",
       "    }\n",
       "\n",
       "    .dataframe thead th {\n",
       "        text-align: right;\n",
       "    }\n",
       "</style>\n",
       "<table border=\"1\" class=\"dataframe\">\n",
       "  <thead>\n",
       "    <tr style=\"text-align: right;\">\n",
       "      <th></th>\n",
       "      <th>email_text</th>\n",
       "      <th>label</th>\n",
       "    </tr>\n",
       "  </thead>\n",
       "  <tbody>\n",
       "  </tbody>\n",
       "</table>\n",
       "</div>"
      ],
      "text/plain": [
       "Empty DataFrame\n",
       "Columns: [email_text, label]\n",
       "Index: []"
      ]
     },
     "execution_count": 218,
     "metadata": {},
     "output_type": "execute_result"
    }
   ],
   "source": [
    "df"
   ]
  },
  {
   "cell_type": "code",
   "execution_count": 193,
   "id": "c0472ee6-ba26-4257-a4bb-9895a8a0c7b8",
   "metadata": {},
   "outputs": [
    {
     "data": {
      "text/plain": [
       "'.write_access_check_file.temp'"
      ]
     },
     "execution_count": 193,
     "metadata": {},
     "output_type": "execute_result"
    }
   ],
   "source": [
    "objects[0]['Key']"
   ]
  },
  {
   "cell_type": "code",
   "execution_count": 194,
   "id": "a8bba780-cbcb-44c1-a49d-ce31f614ffcd",
   "metadata": {
    "tags": []
   },
   "outputs": [],
   "source": [
    "#objects in s3 includes folders and image objects\n",
    "objects = s3.list_objects_v2(Bucket=bucket_name)['Contents']"
   ]
  },
  {
   "cell_type": "code",
   "execution_count": 195,
   "id": "bff37e7c-c437-4a97-8eb4-ce41a025284f",
   "metadata": {
    "tags": []
   },
   "outputs": [],
   "source": [
    "objKey = objects[3]['Key']"
   ]
  },
  {
   "cell_type": "code",
   "execution_count": 196,
   "id": "bf4a5403-0e24-4463-ba62-70ef48f4c30f",
   "metadata": {
    "tags": []
   },
   "outputs": [],
   "source": [
    "response = s3.get_object(Bucket=bucket_name, Key=objKey)\n",
    "image_bytes = response['Body'].read()\n",
    "attachment = email.message_from_bytes(image_bytes)\n",
    "image_bytes = attachment.get_payload(decode=True)\n",
    "responseEmail = client.detect_document_text(Document={'Bytes': image_bytes})\n",
    "text = '\\n'.join([item['Text'] for item in responseEmail['Blocks'] if item['BlockType'] == 'LINE'])"
   ]
  },
  {
   "cell_type": "code",
   "execution_count": null,
   "id": "18b1e74c-d0f2-4ce4-988c-0a4631141261",
   "metadata": {},
   "outputs": [],
   "source": []
  },
  {
   "cell_type": "code",
   "execution_count": 197,
   "id": "d740c4fd-8410-40dc-b597-1cba738be29d",
   "metadata": {
    "tags": []
   },
   "outputs": [],
   "source": [
    "text\n",
    "label = objKey.split('/')[0].split(' - ')[1]"
   ]
  },
  {
   "cell_type": "code",
   "execution_count": 198,
   "id": "0f3739a8-5944-4000-8135-28d029529af9",
   "metadata": {
    "tags": []
   },
   "outputs": [
    {
     "data": {
      "text/plain": [
       "'Cold emails'"
      ]
     },
     "execution_count": 198,
     "metadata": {},
     "output_type": "execute_result"
    }
   ],
   "source": [
    "label"
   ]
  },
  {
   "cell_type": "code",
   "execution_count": 220,
   "id": "d8c91662-101e-47dd-b425-d994615202ca",
   "metadata": {
    "tags": []
   },
   "outputs": [],
   "source": [
    "for obj in objects:\n",
    "    objKey = obj['Key'] #key is either the folder key or the image object key\n",
    "    \n",
    "    # Skip objects that are not images\n",
    "    if not objKey.endswith('.jpg') and not objKey.endswith('.jpeg') and not objKey.endswith('.png'):\n",
    "        continue\n",
    "        \n",
    "    # Extract the image bytes from the S3 object\n",
    "    response = s3.get_object(Bucket=bucket_name, Key=objKey)\n",
    "    image_bytes = response['Body'].read()\n",
    "    attachment = email.message_from_bytes(image_bytes)\n",
    "    image_bytes = attachment.get_payload(decode=True)\n",
    "    responseEmail = client.detect_document_text(Document={'Bytes': image_bytes})\n",
    "    text = '\\n'.join([item['Text'] for item in responseEmail['Blocks'] if item['BlockType'] == 'LINE'])\n",
    "    label = objKey.split('/')[0].split(' - ')[1]\n",
    "    df = df.append({'email_text': text, 'label':label}, ignore_index=True)\n",
    "    \n",
    "    #print(f'Text extracted from object {objKey}:')\n",
    "    #print(text)"
   ]
  },
  {
   "cell_type": "code",
   "execution_count": 221,
   "id": "4675ef2c-ef1e-4866-9b32-4ac8689ab25c",
   "metadata": {
    "tags": []
   },
   "outputs": [
    {
     "data": {
      "text/html": [
       "<div>\n",
       "<style scoped>\n",
       "    .dataframe tbody tr th:only-of-type {\n",
       "        vertical-align: middle;\n",
       "    }\n",
       "\n",
       "    .dataframe tbody tr th {\n",
       "        vertical-align: top;\n",
       "    }\n",
       "\n",
       "    .dataframe thead th {\n",
       "        text-align: right;\n",
       "    }\n",
       "</style>\n",
       "<table border=\"1\" class=\"dataframe\">\n",
       "  <thead>\n",
       "    <tr style=\"text-align: right;\">\n",
       "      <th></th>\n",
       "      <th>email_text</th>\n",
       "      <th>label</th>\n",
       "    </tr>\n",
       "  </thead>\n",
       "  <tbody>\n",
       "    <tr>\n",
       "      <th>0</th>\n",
       "      <td>Reaching out - Factmata\\nDear Mr. Cuban,\\nApol...</td>\n",
       "      <td>Cold emails</td>\n",
       "    </tr>\n",
       "    <tr>\n",
       "      <th>1</th>\n",
       "      <td>John Lee (MIT graduate) - Inquiry into Biomedi...</td>\n",
       "      <td>Cold emails</td>\n",
       "    </tr>\n",
       "    <tr>\n",
       "      <th>2</th>\n",
       "      <td>Editorial internship inquiry\\nCarolina VonKamp...</td>\n",
       "      <td>Cold emails</td>\n",
       "    </tr>\n",
       "    <tr>\n",
       "      <th>3</th>\n",
       "      <td>Interested in Eight Sleep Marketing Internship...</td>\n",
       "      <td>Cold emails</td>\n",
       "    </tr>\n",
       "    <tr>\n",
       "      <th>4</th>\n",
       "      <td>Hey, my name's Niraj Pant.\\nI understand your ...</td>\n",
       "      <td>Cold emails</td>\n",
       "    </tr>\n",
       "    <tr>\n",
       "      <th>...</th>\n",
       "      <td>...</td>\n",
       "      <td>...</td>\n",
       "    </tr>\n",
       "    <tr>\n",
       "      <th>206</th>\n",
       "      <td>To:\\nFrom:\\nSubject:\\nMs. Decision Maker,\\nI a...</td>\n",
       "      <td>interview acceptance</td>\n",
       "    </tr>\n",
       "    <tr>\n",
       "      <th>207</th>\n",
       "      <td>The following template can be used for email i...</td>\n",
       "      <td>interview acceptance</td>\n",
       "    </tr>\n",
       "    <tr>\n",
       "      <th>208</th>\n",
       "      <td>To:\\nFrom:\\nSubject:\\nMr./Ms. [Recruiter or Hi...</td>\n",
       "      <td>interview acceptance</td>\n",
       "    </tr>\n",
       "    <tr>\n",
       "      <th>209</th>\n",
       "      <td>Dear Y,\\nThank you very much for your mail.\\nI...</td>\n",
       "      <td>interview acceptance</td>\n",
       "    </tr>\n",
       "    <tr>\n",
       "      <th>210</th>\n",
       "      <td>To: chalesbrown@mail.com\\nSubject Acceptance f...</td>\n",
       "      <td>interview acceptance</td>\n",
       "    </tr>\n",
       "  </tbody>\n",
       "</table>\n",
       "<p>211 rows × 2 columns</p>\n",
       "</div>"
      ],
      "text/plain": [
       "                                            email_text                  label\n",
       "0    Reaching out - Factmata\\nDear Mr. Cuban,\\nApol...            Cold emails\n",
       "1    John Lee (MIT graduate) - Inquiry into Biomedi...            Cold emails\n",
       "2    Editorial internship inquiry\\nCarolina VonKamp...            Cold emails\n",
       "3    Interested in Eight Sleep Marketing Internship...            Cold emails\n",
       "4    Hey, my name's Niraj Pant.\\nI understand your ...            Cold emails\n",
       "..                                                 ...                    ...\n",
       "206  To:\\nFrom:\\nSubject:\\nMs. Decision Maker,\\nI a...  interview acceptance \n",
       "207  The following template can be used for email i...  interview acceptance \n",
       "208  To:\\nFrom:\\nSubject:\\nMr./Ms. [Recruiter or Hi...  interview acceptance \n",
       "209  Dear Y,\\nThank you very much for your mail.\\nI...  interview acceptance \n",
       "210  To: chalesbrown@mail.com\\nSubject Acceptance f...  interview acceptance \n",
       "\n",
       "[211 rows x 2 columns]"
      ]
     },
     "execution_count": 221,
     "metadata": {},
     "output_type": "execute_result"
    }
   ],
   "source": [
    "df"
   ]
  },
  {
   "cell_type": "code",
   "execution_count": 114,
   "id": "56a60a29-97ec-4bb0-ab46-d7e18a020fb1",
   "metadata": {
    "tags": []
   },
   "outputs": [
    {
     "data": {
      "text/html": [
       "<div>\n",
       "<style scoped>\n",
       "    .dataframe tbody tr th:only-of-type {\n",
       "        vertical-align: middle;\n",
       "    }\n",
       "\n",
       "    .dataframe tbody tr th {\n",
       "        vertical-align: top;\n",
       "    }\n",
       "\n",
       "    .dataframe thead th {\n",
       "        text-align: right;\n",
       "    }\n",
       "</style>\n",
       "<table border=\"1\" class=\"dataframe\">\n",
       "  <thead>\n",
       "    <tr style=\"text-align: right;\">\n",
       "      <th></th>\n",
       "      <th>A</th>\n",
       "      <th>B</th>\n",
       "      <th>C</th>\n",
       "    </tr>\n",
       "  </thead>\n",
       "  <tbody>\n",
       "    <tr>\n",
       "      <th>0</th>\n",
       "      <td>1</td>\n",
       "      <td>4</td>\n",
       "      <td>7</td>\n",
       "    </tr>\n",
       "    <tr>\n",
       "      <th>1</th>\n",
       "      <td>2</td>\n",
       "      <td>5</td>\n",
       "      <td>8</td>\n",
       "    </tr>\n",
       "    <tr>\n",
       "      <th>2</th>\n",
       "      <td>3</td>\n",
       "      <td>6</td>\n",
       "      <td>9</td>\n",
       "    </tr>\n",
       "  </tbody>\n",
       "</table>\n",
       "</div>"
      ],
      "text/plain": [
       "   A  B  C\n",
       "0  1  4  7\n",
       "1  2  5  8\n",
       "2  3  6  9"
      ]
     },
     "execution_count": 114,
     "metadata": {},
     "output_type": "execute_result"
    }
   ],
   "source": [
    "df1 = pd.DataFrame({'A': [1, 2, 3], 'B': [4, 5, 6], 'C': [7, 8, 9]})\n",
    "df1"
   ]
  },
  {
   "cell_type": "code",
   "execution_count": 222,
   "id": "b655adf6-8d96-4128-9751-fc79b881b77a",
   "metadata": {
    "tags": []
   },
   "outputs": [],
   "source": [
    "df = df[['label', 'email_text']]"
   ]
  },
  {
   "cell_type": "code",
   "execution_count": 223,
   "id": "d29f5273-d3ac-44b6-bfb9-3a427a21327d",
   "metadata": {
    "tags": []
   },
   "outputs": [],
   "source": [
    "df = df.sample(frac = 1).reset_index(drop = True)"
   ]
  },
  {
   "cell_type": "code",
   "execution_count": 224,
   "id": "89df6fc7-dbef-4c28-86ce-83b01bb62e9f",
   "metadata": {
    "tags": []
   },
   "outputs": [],
   "source": [
    "df.to_csv('HRemail.csv', index=False, header=False)"
   ]
  },
  {
   "cell_type": "code",
   "execution_count": 225,
   "id": "e9d4c1e0-8e60-41da-bdb0-10edafe2b9b7",
   "metadata": {
    "tags": []
   },
   "outputs": [],
   "source": [
    "csv_string = df.to_csv(index=False)"
   ]
  },
  {
   "cell_type": "code",
   "execution_count": 226,
   "id": "a9a27ae3-01a2-43cc-acab-e23a4a943e31",
   "metadata": {
    "tags": []
   },
   "outputs": [
    {
     "data": {
      "text/plain": [
       "{'ResponseMetadata': {'RequestId': 'S0Y5DG743AEBKZBD',\n",
       "  'HostId': 'bJxmwGcDCERrJOqb03V7F5uUa0xT8x6hfpttZS8Pp0jiwUCicVBa8GquBmIehDQdVh+xzHNkUhU=',\n",
       "  'HTTPStatusCode': 200,\n",
       "  'HTTPHeaders': {'x-amz-id-2': 'bJxmwGcDCERrJOqb03V7F5uUa0xT8x6hfpttZS8Pp0jiwUCicVBa8GquBmIehDQdVh+xzHNkUhU=',\n",
       "   'x-amz-request-id': 'S0Y5DG743AEBKZBD',\n",
       "   'date': 'Sat, 11 Mar 2023 17:09:54 GMT',\n",
       "   'x-amz-version-id': 'n170JEGgvGytEnnbFGz8EPiSyvpDR8xy',\n",
       "   'x-amz-server-side-encryption': 'AES256',\n",
       "   'etag': '\"43603ae7aab19168fdda44cf4986cea7\"',\n",
       "   'server': 'AmazonS3',\n",
       "   'content-length': '0'},\n",
       "  'RetryAttempts': 0},\n",
       " 'ETag': '\"43603ae7aab19168fdda44cf4986cea7\"',\n",
       " 'ServerSideEncryption': 'AES256',\n",
       " 'VersionId': 'n170JEGgvGytEnnbFGz8EPiSyvpDR8xy'}"
      ]
     },
     "execution_count": 226,
     "metadata": {},
     "output_type": "execute_result"
    }
   ],
   "source": [
    "s3.put_object(Bucket=bucket_name, Key='HRemail', Body=csv_string.encode('utf-8'))"
   ]
  },
  {
   "cell_type": "code",
   "execution_count": 148,
   "id": "9d19e01c-9471-45c6-bf21-8e258903ca77",
   "metadata": {
    "tags": []
   },
   "outputs": [],
   "source": [
    "obj = s3.get_object(Bucket=bucket_name, Key='HRemail.csv')\n",
    "HRemail_df = pd.read_csv(obj['Body'])"
   ]
  },
  {
   "cell_type": "code",
   "execution_count": 143,
   "id": "5daee220-164f-43a0-888a-720fba6abf87",
   "metadata": {
    "tags": []
   },
   "outputs": [],
   "source": [
    "HRemail_df.to_csv('HRemail_df.csv', index=False)"
   ]
  },
  {
   "cell_type": "code",
   "execution_count": 167,
   "id": "b4cdd35d-4546-4413-84f3-ba8429cd3ae0",
   "metadata": {},
   "outputs": [
    {
     "data": {
      "text/html": [
       "<div>\n",
       "<style scoped>\n",
       "    .dataframe tbody tr th:only-of-type {\n",
       "        vertical-align: middle;\n",
       "    }\n",
       "\n",
       "    .dataframe tbody tr th {\n",
       "        vertical-align: top;\n",
       "    }\n",
       "\n",
       "    .dataframe thead th {\n",
       "        text-align: right;\n",
       "    }\n",
       "</style>\n",
       "<table border=\"1\" class=\"dataframe\">\n",
       "  <thead>\n",
       "    <tr style=\"text-align: right;\">\n",
       "      <th></th>\n",
       "      <th>label</th>\n",
       "      <th>email_text</th>\n",
       "    </tr>\n",
       "  </thead>\n",
       "  <tbody>\n",
       "    <tr>\n",
       "      <th>1</th>\n",
       "      <td>Cold emails</td>\n",
       "      <td>Hello,\\nI noticed your Twitter post about the ...</td>\n",
       "    </tr>\n",
       "    <tr>\n",
       "      <th>6</th>\n",
       "      <td>Cold emails</td>\n",
       "      <td>Letter Accepting an Interview Invitation and A...</td>\n",
       "    </tr>\n",
       "    <tr>\n",
       "      <th>7</th>\n",
       "      <td>Cold emails</td>\n",
       "      <td>Dear [NAME],\\nMy name is [YOUR NAME]. You grad...</td>\n",
       "    </tr>\n",
       "    <tr>\n",
       "      <th>8</th>\n",
       "      <td>Cold emails</td>\n",
       "      <td>Hey Jennifer,\\nI'm reaching out regarding your...</td>\n",
       "    </tr>\n",
       "    <tr>\n",
       "      <th>10</th>\n",
       "      <td>Cold emails</td>\n",
       "      <td>Sample Message Confirming Date and Time When D...</td>\n",
       "    </tr>\n",
       "    <tr>\n",
       "      <th>...</th>\n",
       "      <td>...</td>\n",
       "      <td>...</td>\n",
       "    </tr>\n",
       "    <tr>\n",
       "      <th>671</th>\n",
       "      <td>Cold emails</td>\n",
       "      <td>From:\\nSubject: Quick favor\\nDate: October 9, ...</td>\n",
       "    </tr>\n",
       "    <tr>\n",
       "      <th>672</th>\n",
       "      <td>Cold emails</td>\n",
       "      <td>Subject: Dave, You Could Conquer the Cubs\\nHi ...</td>\n",
       "    </tr>\n",
       "    <tr>\n",
       "      <th>673</th>\n",
       "      <td>Cold emails</td>\n",
       "      <td>A huge nerd looking for an internship at Nerds...</td>\n",
       "    </tr>\n",
       "    <tr>\n",
       "      <th>674</th>\n",
       "      <td>Cold emails</td>\n",
       "      <td>Berkeley Undergrad - Corporate Strategy and Bu...</td>\n",
       "    </tr>\n",
       "    <tr>\n",
       "      <th>675</th>\n",
       "      <td>Cold emails</td>\n",
       "      <td>Message (optional)\\nI'm Taylor, a Dartmouth '2...</td>\n",
       "    </tr>\n",
       "  </tbody>\n",
       "</table>\n",
       "<p>340 rows × 2 columns</p>\n",
       "</div>"
      ],
      "text/plain": [
       "           label                                         email_text\n",
       "1    Cold emails  Hello,\\nI noticed your Twitter post about the ...\n",
       "6    Cold emails  Letter Accepting an Interview Invitation and A...\n",
       "7    Cold emails  Dear [NAME],\\nMy name is [YOUR NAME]. You grad...\n",
       "8    Cold emails  Hey Jennifer,\\nI'm reaching out regarding your...\n",
       "10   Cold emails  Sample Message Confirming Date and Time When D...\n",
       "..           ...                                                ...\n",
       "671  Cold emails  From:\\nSubject: Quick favor\\nDate: October 9, ...\n",
       "672  Cold emails  Subject: Dave, You Could Conquer the Cubs\\nHi ...\n",
       "673  Cold emails  A huge nerd looking for an internship at Nerds...\n",
       "674  Cold emails  Berkeley Undergrad - Corporate Strategy and Bu...\n",
       "675  Cold emails  Message (optional)\\nI'm Taylor, a Dartmouth '2...\n",
       "\n",
       "[340 rows x 2 columns]"
      ]
     },
     "execution_count": 167,
     "metadata": {},
     "output_type": "execute_result"
    }
   ],
   "source": [
    "df[df['label']=='Cold emails']"
   ]
  },
  {
   "cell_type": "code",
   "execution_count": 169,
   "id": "0e0e99b4-2450-4d8f-af0d-307ebf0c6364",
   "metadata": {
    "tags": []
   },
   "outputs": [
    {
     "data": {
      "text/plain": [
       "(708, 2)"
      ]
     },
     "execution_count": 169,
     "metadata": {},
     "output_type": "execute_result"
    }
   ],
   "source": [
    "df.shape"
   ]
  },
  {
   "cell_type": "code",
   "execution_count": null,
   "id": "2df4ec2b-be20-483c-8894-4edf41c46cf5",
   "metadata": {},
   "outputs": [],
   "source": []
  }
 ],
 "metadata": {
  "availableInstances": [
   {
    "_defaultOrder": 0,
    "_isFastLaunch": true,
    "category": "General purpose",
    "gpuNum": 0,
    "memoryGiB": 4,
    "name": "ml.t3.medium",
    "vcpuNum": 2
   },
   {
    "_defaultOrder": 1,
    "_isFastLaunch": false,
    "category": "General purpose",
    "gpuNum": 0,
    "memoryGiB": 8,
    "name": "ml.t3.large",
    "vcpuNum": 2
   },
   {
    "_defaultOrder": 2,
    "_isFastLaunch": false,
    "category": "General purpose",
    "gpuNum": 0,
    "memoryGiB": 16,
    "name": "ml.t3.xlarge",
    "vcpuNum": 4
   },
   {
    "_defaultOrder": 3,
    "_isFastLaunch": false,
    "category": "General purpose",
    "gpuNum": 0,
    "memoryGiB": 32,
    "name": "ml.t3.2xlarge",
    "vcpuNum": 8
   },
   {
    "_defaultOrder": 4,
    "_isFastLaunch": true,
    "category": "General purpose",
    "gpuNum": 0,
    "memoryGiB": 8,
    "name": "ml.m5.large",
    "vcpuNum": 2
   },
   {
    "_defaultOrder": 5,
    "_isFastLaunch": false,
    "category": "General purpose",
    "gpuNum": 0,
    "memoryGiB": 16,
    "name": "ml.m5.xlarge",
    "vcpuNum": 4
   },
   {
    "_defaultOrder": 6,
    "_isFastLaunch": false,
    "category": "General purpose",
    "gpuNum": 0,
    "memoryGiB": 32,
    "name": "ml.m5.2xlarge",
    "vcpuNum": 8
   },
   {
    "_defaultOrder": 7,
    "_isFastLaunch": false,
    "category": "General purpose",
    "gpuNum": 0,
    "memoryGiB": 64,
    "name": "ml.m5.4xlarge",
    "vcpuNum": 16
   },
   {
    "_defaultOrder": 8,
    "_isFastLaunch": false,
    "category": "General purpose",
    "gpuNum": 0,
    "memoryGiB": 128,
    "name": "ml.m5.8xlarge",
    "vcpuNum": 32
   },
   {
    "_defaultOrder": 9,
    "_isFastLaunch": false,
    "category": "General purpose",
    "gpuNum": 0,
    "memoryGiB": 192,
    "name": "ml.m5.12xlarge",
    "vcpuNum": 48
   },
   {
    "_defaultOrder": 10,
    "_isFastLaunch": false,
    "category": "General purpose",
    "gpuNum": 0,
    "memoryGiB": 256,
    "name": "ml.m5.16xlarge",
    "vcpuNum": 64
   },
   {
    "_defaultOrder": 11,
    "_isFastLaunch": false,
    "category": "General purpose",
    "gpuNum": 0,
    "memoryGiB": 384,
    "name": "ml.m5.24xlarge",
    "vcpuNum": 96
   },
   {
    "_defaultOrder": 12,
    "_isFastLaunch": false,
    "category": "General purpose",
    "gpuNum": 0,
    "memoryGiB": 8,
    "name": "ml.m5d.large",
    "vcpuNum": 2
   },
   {
    "_defaultOrder": 13,
    "_isFastLaunch": false,
    "category": "General purpose",
    "gpuNum": 0,
    "memoryGiB": 16,
    "name": "ml.m5d.xlarge",
    "vcpuNum": 4
   },
   {
    "_defaultOrder": 14,
    "_isFastLaunch": false,
    "category": "General purpose",
    "gpuNum": 0,
    "memoryGiB": 32,
    "name": "ml.m5d.2xlarge",
    "vcpuNum": 8
   },
   {
    "_defaultOrder": 15,
    "_isFastLaunch": false,
    "category": "General purpose",
    "gpuNum": 0,
    "memoryGiB": 64,
    "name": "ml.m5d.4xlarge",
    "vcpuNum": 16
   },
   {
    "_defaultOrder": 16,
    "_isFastLaunch": false,
    "category": "General purpose",
    "gpuNum": 0,
    "memoryGiB": 128,
    "name": "ml.m5d.8xlarge",
    "vcpuNum": 32
   },
   {
    "_defaultOrder": 17,
    "_isFastLaunch": false,
    "category": "General purpose",
    "gpuNum": 0,
    "memoryGiB": 192,
    "name": "ml.m5d.12xlarge",
    "vcpuNum": 48
   },
   {
    "_defaultOrder": 18,
    "_isFastLaunch": false,
    "category": "General purpose",
    "gpuNum": 0,
    "memoryGiB": 256,
    "name": "ml.m5d.16xlarge",
    "vcpuNum": 64
   },
   {
    "_defaultOrder": 19,
    "_isFastLaunch": false,
    "category": "General purpose",
    "gpuNum": 0,
    "memoryGiB": 384,
    "name": "ml.m5d.24xlarge",
    "vcpuNum": 96
   },
   {
    "_defaultOrder": 20,
    "_isFastLaunch": true,
    "category": "Compute optimized",
    "gpuNum": 0,
    "memoryGiB": 4,
    "name": "ml.c5.large",
    "vcpuNum": 2
   },
   {
    "_defaultOrder": 21,
    "_isFastLaunch": false,
    "category": "Compute optimized",
    "gpuNum": 0,
    "memoryGiB": 8,
    "name": "ml.c5.xlarge",
    "vcpuNum": 4
   },
   {
    "_defaultOrder": 22,
    "_isFastLaunch": false,
    "category": "Compute optimized",
    "gpuNum": 0,
    "memoryGiB": 16,
    "name": "ml.c5.2xlarge",
    "vcpuNum": 8
   },
   {
    "_defaultOrder": 23,
    "_isFastLaunch": false,
    "category": "Compute optimized",
    "gpuNum": 0,
    "memoryGiB": 32,
    "name": "ml.c5.4xlarge",
    "vcpuNum": 16
   },
   {
    "_defaultOrder": 24,
    "_isFastLaunch": false,
    "category": "Compute optimized",
    "gpuNum": 0,
    "memoryGiB": 72,
    "name": "ml.c5.9xlarge",
    "vcpuNum": 36
   },
   {
    "_defaultOrder": 25,
    "_isFastLaunch": false,
    "category": "Compute optimized",
    "gpuNum": 0,
    "memoryGiB": 96,
    "name": "ml.c5.12xlarge",
    "vcpuNum": 48
   },
   {
    "_defaultOrder": 26,
    "_isFastLaunch": false,
    "category": "Compute optimized",
    "gpuNum": 0,
    "memoryGiB": 144,
    "name": "ml.c5.18xlarge",
    "vcpuNum": 72
   },
   {
    "_defaultOrder": 27,
    "_isFastLaunch": false,
    "category": "Compute optimized",
    "gpuNum": 0,
    "memoryGiB": 192,
    "name": "ml.c5.24xlarge",
    "vcpuNum": 96
   },
   {
    "_defaultOrder": 28,
    "_isFastLaunch": true,
    "category": "Accelerated computing",
    "gpuNum": 1,
    "memoryGiB": 16,
    "name": "ml.g4dn.xlarge",
    "vcpuNum": 4
   },
   {
    "_defaultOrder": 29,
    "_isFastLaunch": false,
    "category": "Accelerated computing",
    "gpuNum": 1,
    "memoryGiB": 32,
    "name": "ml.g4dn.2xlarge",
    "vcpuNum": 8
   },
   {
    "_defaultOrder": 30,
    "_isFastLaunch": false,
    "category": "Accelerated computing",
    "gpuNum": 1,
    "memoryGiB": 64,
    "name": "ml.g4dn.4xlarge",
    "vcpuNum": 16
   },
   {
    "_defaultOrder": 31,
    "_isFastLaunch": false,
    "category": "Accelerated computing",
    "gpuNum": 1,
    "memoryGiB": 128,
    "name": "ml.g4dn.8xlarge",
    "vcpuNum": 32
   },
   {
    "_defaultOrder": 32,
    "_isFastLaunch": false,
    "category": "Accelerated computing",
    "gpuNum": 4,
    "memoryGiB": 192,
    "name": "ml.g4dn.12xlarge",
    "vcpuNum": 48
   },
   {
    "_defaultOrder": 33,
    "_isFastLaunch": false,
    "category": "Accelerated computing",
    "gpuNum": 1,
    "memoryGiB": 256,
    "name": "ml.g4dn.16xlarge",
    "vcpuNum": 64
   },
   {
    "_defaultOrder": 34,
    "_isFastLaunch": false,
    "category": "Accelerated computing",
    "gpuNum": 1,
    "memoryGiB": 61,
    "name": "ml.p3.2xlarge",
    "vcpuNum": 8
   },
   {
    "_defaultOrder": 35,
    "_isFastLaunch": false,
    "category": "Accelerated computing",
    "gpuNum": 4,
    "memoryGiB": 244,
    "name": "ml.p3.8xlarge",
    "vcpuNum": 32
   },
   {
    "_defaultOrder": 36,
    "_isFastLaunch": false,
    "category": "Accelerated computing",
    "gpuNum": 8,
    "memoryGiB": 488,
    "name": "ml.p3.16xlarge",
    "vcpuNum": 64
   },
   {
    "_defaultOrder": 37,
    "_isFastLaunch": false,
    "category": "Accelerated computing",
    "gpuNum": 8,
    "memoryGiB": 768,
    "name": "ml.p3dn.24xlarge",
    "vcpuNum": 96
   },
   {
    "_defaultOrder": 38,
    "_isFastLaunch": false,
    "category": "Memory Optimized",
    "gpuNum": 0,
    "memoryGiB": 16,
    "name": "ml.r5.large",
    "vcpuNum": 2
   },
   {
    "_defaultOrder": 39,
    "_isFastLaunch": false,
    "category": "Memory Optimized",
    "gpuNum": 0,
    "memoryGiB": 32,
    "name": "ml.r5.xlarge",
    "vcpuNum": 4
   },
   {
    "_defaultOrder": 40,
    "_isFastLaunch": false,
    "category": "Memory Optimized",
    "gpuNum": 0,
    "memoryGiB": 64,
    "name": "ml.r5.2xlarge",
    "vcpuNum": 8
   },
   {
    "_defaultOrder": 41,
    "_isFastLaunch": false,
    "category": "Memory Optimized",
    "gpuNum": 0,
    "memoryGiB": 128,
    "name": "ml.r5.4xlarge",
    "vcpuNum": 16
   },
   {
    "_defaultOrder": 42,
    "_isFastLaunch": false,
    "category": "Memory Optimized",
    "gpuNum": 0,
    "memoryGiB": 256,
    "name": "ml.r5.8xlarge",
    "vcpuNum": 32
   },
   {
    "_defaultOrder": 43,
    "_isFastLaunch": false,
    "category": "Memory Optimized",
    "gpuNum": 0,
    "memoryGiB": 384,
    "name": "ml.r5.12xlarge",
    "vcpuNum": 48
   },
   {
    "_defaultOrder": 44,
    "_isFastLaunch": false,
    "category": "Memory Optimized",
    "gpuNum": 0,
    "memoryGiB": 512,
    "name": "ml.r5.16xlarge",
    "vcpuNum": 64
   },
   {
    "_defaultOrder": 45,
    "_isFastLaunch": false,
    "category": "Memory Optimized",
    "gpuNum": 0,
    "memoryGiB": 768,
    "name": "ml.r5.24xlarge",
    "vcpuNum": 96
   },
   {
    "_defaultOrder": 46,
    "_isFastLaunch": false,
    "category": "Accelerated computing",
    "gpuNum": 1,
    "memoryGiB": 16,
    "name": "ml.g5.xlarge",
    "vcpuNum": 4
   },
   {
    "_defaultOrder": 47,
    "_isFastLaunch": false,
    "category": "Accelerated computing",
    "gpuNum": 1,
    "memoryGiB": 32,
    "name": "ml.g5.2xlarge",
    "vcpuNum": 8
   },
   {
    "_defaultOrder": 48,
    "_isFastLaunch": false,
    "category": "Accelerated computing",
    "gpuNum": 1,
    "memoryGiB": 64,
    "name": "ml.g5.4xlarge",
    "vcpuNum": 16
   },
   {
    "_defaultOrder": 49,
    "_isFastLaunch": false,
    "category": "Accelerated computing",
    "gpuNum": 1,
    "memoryGiB": 128,
    "name": "ml.g5.8xlarge",
    "vcpuNum": 32
   },
   {
    "_defaultOrder": 50,
    "_isFastLaunch": false,
    "category": "Accelerated computing",
    "gpuNum": 1,
    "memoryGiB": 256,
    "name": "ml.g5.16xlarge",
    "vcpuNum": 64
   },
   {
    "_defaultOrder": 51,
    "_isFastLaunch": false,
    "category": "Accelerated computing",
    "gpuNum": 4,
    "memoryGiB": 192,
    "name": "ml.g5.12xlarge",
    "vcpuNum": 48
   },
   {
    "_defaultOrder": 52,
    "_isFastLaunch": false,
    "category": "Accelerated computing",
    "gpuNum": 4,
    "memoryGiB": 384,
    "name": "ml.g5.24xlarge",
    "vcpuNum": 96
   },
   {
    "_defaultOrder": 53,
    "_isFastLaunch": false,
    "category": "Accelerated computing",
    "gpuNum": 8,
    "memoryGiB": 768,
    "name": "ml.g5.48xlarge",
    "vcpuNum": 192
   }
  ],
  "instance_type": "ml.t3.medium",
  "kernelspec": {
   "display_name": "Python 3 (Data Science)",
   "language": "python",
   "name": "python3__SAGEMAKER_INTERNAL__arn:aws:sagemaker:ap-southeast-1:492261229750:image/datascience-1.0"
  },
  "language_info": {
   "codemirror_mode": {
    "name": "ipython",
    "version": 3
   },
   "file_extension": ".py",
   "mimetype": "text/x-python",
   "name": "python",
   "nbconvert_exporter": "python",
   "pygments_lexer": "ipython3",
   "version": "3.7.10"
  }
 },
 "nbformat": 4,
 "nbformat_minor": 5
}
